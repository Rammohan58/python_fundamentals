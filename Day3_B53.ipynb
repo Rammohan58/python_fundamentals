{
 "cells": [
  {
   "cell_type": "code",
   "execution_count": 4,
   "id": "333b519c",
   "metadata": {},
   "outputs": [
    {
     "name": "stdout",
     "output_type": "stream",
     "text": [
      " bharat kumar\n"
     ]
    }
   ],
   "source": [
    "#strings\n",
    "\n",
    "#f strings:\n",
    "first_name='bharat'\n",
    "last_name='kumar'\n",
    "#i want to get the full name\n",
    "fullname=f\" {first_name} {last_name}\"\n",
    "print(fullname)\n"
   ]
  },
  {
   "cell_type": "code",
   "execution_count": 6,
   "id": "086ed19f",
   "metadata": {},
   "outputs": [
    {
     "name": "stdout",
     "output_type": "stream",
     "text": [
      "Hello, bharat kumar\n"
     ]
    }
   ],
   "source": [
    "#i want to greet bharat\n",
    "print(f\"Hello,{fullname}\")"
   ]
  },
  {
   "cell_type": "code",
   "execution_count": 7,
   "id": "f9a78c40",
   "metadata": {},
   "outputs": [
    {
     "name": "stdout",
     "output_type": "stream",
     "text": [
      "Hello, Bharat Kumar\n"
     ]
    }
   ],
   "source": [
    "#correcting the format\n",
    "print(f\"Hello,{fullname.title()}\")"
   ]
  },
  {
   "cell_type": "code",
   "execution_count": 8,
   "id": "0c9db522",
   "metadata": {},
   "outputs": [
    {
     "name": "stdout",
     "output_type": "stream",
     "text": [
      "favourite_language:pythonc++javacobalcjavascript\n"
     ]
    }
   ],
   "source": [
    "#adding whitespaces\n",
    "print(\"favourite_language:pythonc++javacobalcjavascript\")"
   ]
  },
  {
   "cell_type": "code",
   "execution_count": 12,
   "id": "b4ef09af",
   "metadata": {},
   "outputs": [
    {
     "name": "stdout",
     "output_type": "stream",
     "text": [
      "favourite_language:\n",
      "python\n",
      "c++\n",
      "java\n",
      "cobal\n",
      "c\n",
      "javascript\n"
     ]
    }
   ],
   "source": [
    "#new line delimeter\n",
    "print(\"favourite_language:\\npython\\nc++\\njava\\ncobal\\nc\\njavascript\")"
   ]
  },
  {
   "cell_type": "code",
   "execution_count": 14,
   "id": "2edf59c2",
   "metadata": {},
   "outputs": [
    {
     "name": "stdout",
     "output_type": "stream",
     "text": [
      "favourite_language:\n",
      "\tpython\n",
      "\tc++\n",
      "\tcobal\n",
      "\tjava\n",
      "\tc\n",
      "\tjavascript\n"
     ]
    }
   ],
   "source": [
    "#tab delimeter\n",
    "print(\"favourite_language:\\n\\tpython\\n\\tc++\\n\\tcobal\\n\\tjava\\n\\tc\\n\\tjavascript\")"
   ]
  },
  {
   "cell_type": "code",
   "execution_count": 17,
   "id": "aa3a7c4e",
   "metadata": {},
   "outputs": [
    {
     "name": "stdout",
     "output_type": "stream",
     "text": [
      "  naveen\n"
     ]
    }
   ],
   "source": [
    "#Removing whitespaces from the strings:\n",
    "name='  naveen'\n",
    "print(name)"
   ]
  },
  {
   "cell_type": "code",
   "execution_count": 18,
   "id": "ee946b58",
   "metadata": {},
   "outputs": [
    {
     "name": "stdout",
     "output_type": "stream",
     "text": [
      "rajesh   \n"
     ]
    }
   ],
   "source": [
    "name2='rajesh   '\n",
    "print(name2)"
   ]
  },
  {
   "cell_type": "code",
   "execution_count": 19,
   "id": "61a53bbd",
   "metadata": {},
   "outputs": [
    {
     "data": {
      "text/plain": [
       "'naveen'"
      ]
     },
     "execution_count": 19,
     "metadata": {},
     "output_type": "execute_result"
    }
   ],
   "source": [
    "name.lstrip()"
   ]
  },
  {
   "cell_type": "code",
   "execution_count": 20,
   "id": "f2b842da",
   "metadata": {},
   "outputs": [
    {
     "data": {
      "text/plain": [
       "'rajesh'"
      ]
     },
     "execution_count": 20,
     "metadata": {},
     "output_type": "execute_result"
    }
   ],
   "source": [
    "name2.rstrip()\n"
   ]
  },
  {
   "cell_type": "code",
   "execution_count": 22,
   "id": "3904563a",
   "metadata": {},
   "outputs": [
    {
     "name": "stdout",
     "output_type": "stream",
     "text": [
      "   raajan   \n"
     ]
    },
    {
     "data": {
      "text/plain": [
       "'raajan'"
      ]
     },
     "execution_count": 22,
     "metadata": {},
     "output_type": "execute_result"
    }
   ],
   "source": [
    "name3='   raajan   '\n",
    "print(name3)\n",
    "name3.strip()"
   ]
  },
  {
   "cell_type": "code",
   "execution_count": null,
   "id": "fd231792",
   "metadata": {},
   "outputs": [],
   "source": []
  }
 ],
 "metadata": {
  "kernelspec": {
   "display_name": "Python 3",
   "language": "python",
   "name": "python3"
  },
  "language_info": {
   "codemirror_mode": {
    "name": "ipython",
    "version": 3
   },
   "file_extension": ".py",
   "mimetype": "text/x-python",
   "name": "python",
   "nbconvert_exporter": "python",
   "pygments_lexer": "ipython3",
   "version": "3.8.8"
  }
 },
 "nbformat": 4,
 "nbformat_minor": 5
}
