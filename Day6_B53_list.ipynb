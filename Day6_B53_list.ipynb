{
 "cells": [
  {
   "cell_type": "code",
   "execution_count": 1,
   "id": "2f5014ce",
   "metadata": {},
   "outputs": [
    {
     "name": "stdout",
     "output_type": "stream",
     "text": [
      "['rammohan', 'praveen', 'karthik', 'naveen', 'divya', 'tabassum']\n"
     ]
    }
   ],
   "source": [
    "#continuation with list\n",
    "students=['rammohan','praveen','karthik','naveen','divya','tabassum']\n",
    "print(students)"
   ]
  },
  {
   "cell_type": "code",
   "execution_count": 2,
   "id": "a58b2a43",
   "metadata": {},
   "outputs": [
    {
     "name": "stdout",
     "output_type": "stream",
     "text": [
      "keep up the good work,rammohan\n"
     ]
    }
   ],
   "source": [
    "#appreciate above students in the list\n",
    "print(f\"keep up the good work,{students[0]}\")"
   ]
  },
  {
   "cell_type": "code",
   "execution_count": 3,
   "id": "34cb1574",
   "metadata": {},
   "outputs": [
    {
     "ename": "SyntaxError",
     "evalue": "EOL while scanning string literal (<ipython-input-3-8dbbf8e11022>, line 1)",
     "output_type": "error",
     "traceback": [
      "\u001b[1;36m  File \u001b[1;32m\"<ipython-input-3-8dbbf8e11022>\"\u001b[1;36m, line \u001b[1;32m1\u001b[0m\n\u001b[1;33m    print(f\"keep up the good work,{students[0].title()})\u001b[0m\n\u001b[1;37m                                                        ^\u001b[0m\n\u001b[1;31mSyntaxError\u001b[0m\u001b[1;31m:\u001b[0m EOL while scanning string literal\n"
     ]
    }
   ],
   "source": [
    "print(f\"keep up the good work,{students[0].title()})"
   ]
  },
  {
   "cell_type": "code",
   "execution_count": 4,
   "id": "6d2e6485",
   "metadata": {},
   "outputs": [
    {
     "name": "stdout",
     "output_type": "stream",
     "text": [
      "keep up the good work,Rammohan\n"
     ]
    }
   ],
   "source": [
    "print(f\"keep up the good work,{students[0].title()}\")"
   ]
  },
  {
   "cell_type": "code",
   "execution_count": 5,
   "id": "694ed0ea",
   "metadata": {},
   "outputs": [
    {
     "name": "stdout",
     "output_type": "stream",
     "text": [
      "keep up the good work,Praveen\n"
     ]
    }
   ],
   "source": [
    "print(f\"keep up the good work,{students[1].title()}\")"
   ]
  },
  {
   "cell_type": "code",
   "execution_count": 6,
   "id": "ba7a1042",
   "metadata": {},
   "outputs": [
    {
     "name": "stdout",
     "output_type": "stream",
     "text": [
      "keep up the good work,Karthik\n"
     ]
    }
   ],
   "source": [
    "print(f\"keep up the good work,{students[2].title()}\")"
   ]
  },
  {
   "cell_type": "code",
   "execution_count": 21,
   "id": "a3e5e00a",
   "metadata": {},
   "outputs": [
    {
     "name": "stdout",
     "output_type": "stream",
     "text": [
      "keep up the good work,rammohan\n",
      "keep up the good work,praveen\n",
      "keep up the good work,karthik\n",
      "keep up the good work,naveen\n",
      "keep up the good work,divya\n",
      "keep up the good work,tabassum\n"
     ]
    }
   ],
   "source": [
    "#intro to looping statement\n",
    "#for loop\n",
    "for x in students:\n",
    "    print(f\"keep up the good work,{x}\")"
   ]
  },
  {
   "cell_type": "code",
   "execution_count": 18,
   "id": "5b8e3160",
   "metadata": {},
   "outputs": [
    {
     "name": "stdout",
     "output_type": "stream",
     "text": [
      "Axis Bank wishes you a happy new year,rammohan\n",
      "Axis Bank wishes you a happy new year,praveen\n",
      "Axis Bank wishes you a happy new year,karthik\n",
      "Axis Bank wishes you a happy new year,naveen\n",
      "Axis Bank wishes you a happy new year,divya\n",
      "Axis Bank wishes you a happy new year,tabassum\n"
     ]
    }
   ],
   "source": [
    "for a in students:\n",
    "    print(f\"Axis Bank wishes you a happy new year,{a}\")"
   ]
  },
  {
   "cell_type": "code",
   "execution_count": 22,
   "id": "5515e157",
   "metadata": {},
   "outputs": [
    {
     "name": "stdout",
     "output_type": "stream",
     "text": [
      "keep up the goodwork,rammohan\n",
      "I am looking to receive your practise file of today,rammohan\n",
      "keep up the goodwork,praveen\n",
      "I am looking to receive your practise file of today,praveen\n",
      "keep up the goodwork,karthik\n",
      "I am looking to receive your practise file of today,karthik\n",
      "keep up the goodwork,naveen\n",
      "I am looking to receive your practise file of today,naveen\n",
      "keep up the goodwork,divya\n",
      "I am looking to receive your practise file of today,divya\n",
      "keep up the goodwork,tabassum\n",
      "I am looking to receive your practise file of today,tabassum\n"
     ]
    }
   ],
   "source": [
    "for x in students:\n",
    "    print(f\"keep up the goodwork,{x}\")\n",
    "    print(f\"I am looking to receive your practise file of today,{x}\")"
   ]
  },
  {
   "cell_type": "code",
   "execution_count": 23,
   "id": "893b2cc1",
   "metadata": {},
   "outputs": [
    {
     "name": "stdout",
     "output_type": "stream",
     "text": [
      "keep up the goodwork,rammohan\n",
      "I am looking to receive your practise file of today,rammohan\n",
      "\n",
      "keep up the goodwork,praveen\n",
      "I am looking to receive your practise file of today,praveen\n",
      "\n",
      "keep up the goodwork,karthik\n",
      "I am looking to receive your practise file of today,karthik\n",
      "\n",
      "keep up the goodwork,naveen\n",
      "I am looking to receive your practise file of today,naveen\n",
      "\n",
      "keep up the goodwork,divya\n",
      "I am looking to receive your practise file of today,divya\n",
      "\n",
      "keep up the goodwork,tabassum\n",
      "I am looking to receive your practise file of today,tabassum\n",
      "\n"
     ]
    }
   ],
   "source": [
    "for x in students:\n",
    "    print(f\"keep up the goodwork,{x}\")\n",
    "    print(f\"I am looking to receive your practise file of today,{x}\\n\")"
   ]
  },
  {
   "cell_type": "code",
   "execution_count": 24,
   "id": "5a18f3a5",
   "metadata": {},
   "outputs": [
    {
     "name": "stdout",
     "output_type": "stream",
     "text": [
      "keep up the goodwork,rammohan\n",
      "I am looking to receive your practise file of today,rammohan\n",
      "\n",
      "Thank you all for joining in the session today\n",
      "keep up the goodwork,praveen\n",
      "I am looking to receive your practise file of today,praveen\n",
      "\n",
      "Thank you all for joining in the session today\n",
      "keep up the goodwork,karthik\n",
      "I am looking to receive your practise file of today,karthik\n",
      "\n",
      "Thank you all for joining in the session today\n",
      "keep up the goodwork,naveen\n",
      "I am looking to receive your practise file of today,naveen\n",
      "\n",
      "Thank you all for joining in the session today\n",
      "keep up the goodwork,divya\n",
      "I am looking to receive your practise file of today,divya\n",
      "\n",
      "Thank you all for joining in the session today\n",
      "keep up the goodwork,tabassum\n",
      "I am looking to receive your practise file of today,tabassum\n",
      "\n",
      "Thank you all for joining in the session today\n"
     ]
    }
   ],
   "source": [
    "#writing in the loop\n",
    "for x in students:\n",
    "    print(f\"keep up the goodwork,{x}\")\n",
    "    print(f\"I am looking to receive your practise file of today,{x}\\n\")\n",
    "    print(\"Thank you all for joining in the session today\")"
   ]
  },
  {
   "cell_type": "code",
   "execution_count": null,
   "id": "9e73c7a6",
   "metadata": {},
   "outputs": [],
   "source": []
  }
 ],
 "metadata": {
  "kernelspec": {
   "display_name": "Python 3",
   "language": "python",
   "name": "python3"
  },
  "language_info": {
   "codemirror_mode": {
    "name": "ipython",
    "version": 3
   },
   "file_extension": ".py",
   "mimetype": "text/x-python",
   "name": "python",
   "nbconvert_exporter": "python",
   "pygments_lexer": "ipython3",
   "version": "3.8.8"
  }
 },
 "nbformat": 4,
 "nbformat_minor": 5
}
