{
 "cells": [
  {
   "cell_type": "code",
   "execution_count": 1,
   "id": "99fe0823",
   "metadata": {},
   "outputs": [
    {
     "name": "stdout",
     "output_type": "stream",
     "text": [
      "['ravi', 'naveen', 'joseph', 'nisar', 'vanshika', 'huda', 'nuda']\n"
     ]
    }
   ],
   "source": [
    "#printing elements in the list\n",
    "students=['ravi','naveen','joseph','nisar','vanshika','huda','nuda']\n",
    "print(students)"
   ]
  },
  {
   "cell_type": "code",
   "execution_count": 2,
   "id": "b1c49507",
   "metadata": {},
   "outputs": [
    {
     "data": {
      "text/plain": [
       "list"
      ]
     },
     "execution_count": 2,
     "metadata": {},
     "output_type": "execute_result"
    }
   ],
   "source": [
    "type(students)"
   ]
  },
  {
   "cell_type": "code",
   "execution_count": null,
   "id": "4f5a6294",
   "metadata": {},
   "outputs": [],
   "source": []
  },
  {
   "cell_type": "code",
   "execution_count": 4,
   "id": "3c1524ad",
   "metadata": {},
   "outputs": [
    {
     "name": "stdout",
     "output_type": "stream",
     "text": [
      "naveen\n"
     ]
    }
   ],
   "source": [
    "#print naveen name in output\n",
    "print(students[1])"
   ]
  },
  {
   "cell_type": "code",
   "execution_count": 5,
   "id": "c8853edf",
   "metadata": {},
   "outputs": [
    {
     "name": "stdout",
     "output_type": "stream",
     "text": [
      "ravi\n"
     ]
    }
   ],
   "source": [
    "#print ravi name in output\n",
    "print(students[0])"
   ]
  },
  {
   "cell_type": "code",
   "execution_count": 6,
   "id": "232355e2",
   "metadata": {},
   "outputs": [
    {
     "name": "stdout",
     "output_type": "stream",
     "text": [
      "['ravi', 'naveen', 'joseph', 'nisar', 'vanshika', 'huda', 'nuda', 'vivek']\n"
     ]
    }
   ],
   "source": [
    "#adding vivek name in the list\n",
    "students.append('vivek')\n",
    "print(students)"
   ]
  },
  {
   "cell_type": "code",
   "execution_count": 7,
   "id": "4de68b28",
   "metadata": {},
   "outputs": [],
   "source": [
    "#adding karthik name in the list\n",
    "students.append('karthik')"
   ]
  },
  {
   "cell_type": "code",
   "execution_count": 8,
   "id": "b8468912",
   "metadata": {},
   "outputs": [
    {
     "name": "stdout",
     "output_type": "stream",
     "text": [
      "['ravi', 'naveen', 'joseph', 'nisar', 'vanshika', 'huda', 'nuda', 'vivek', 'karthik']\n"
     ]
    }
   ],
   "source": [
    "print(students)"
   ]
  },
  {
   "cell_type": "code",
   "execution_count": 9,
   "id": "72cfc37a",
   "metadata": {},
   "outputs": [
    {
     "name": "stdout",
     "output_type": "stream",
     "text": [
      "['ravi', 'naveen', 'aarif', 'joseph', 'nisar', 'vanshika', 'huda', 'nuda', 'vivek', 'karthik']\n"
     ]
    }
   ],
   "source": [
    "students.insert(2,'aarif')\n",
    "print(students)"
   ]
  },
  {
   "cell_type": "code",
   "execution_count": 10,
   "id": "46197812",
   "metadata": {},
   "outputs": [
    {
     "name": "stdout",
     "output_type": "stream",
     "text": [
      "aarif\n"
     ]
    }
   ],
   "source": [
    "print(students[2])"
   ]
  },
  {
   "cell_type": "code",
   "execution_count": 11,
   "id": "23f52496",
   "metadata": {},
   "outputs": [
    {
     "name": "stdout",
     "output_type": "stream",
     "text": [
      "['ravi', 'kumar', 'aarif', 'joseph', 'nisar', 'vanshika', 'huda', 'nuda', 'vivek', 'karthik']\n"
     ]
    }
   ],
   "source": [
    "#modify naveen name to kumar\n",
    "students[1]='kumar'\n",
    "print(students)"
   ]
  },
  {
   "cell_type": "code",
   "execution_count": 12,
   "id": "c2119547",
   "metadata": {},
   "outputs": [
    {
     "name": "stdout",
     "output_type": "stream",
     "text": [
      "['ravi', 'kumar', 'aarif', 'nisar', 'vanshika', 'huda', 'nuda', 'vivek', 'karthik']\n"
     ]
    }
   ],
   "source": [
    "#delete joseph in the list\n",
    "del students[3]\n",
    "print(students)"
   ]
  },
  {
   "cell_type": "code",
   "execution_count": 13,
   "id": "1d11c745",
   "metadata": {},
   "outputs": [
    {
     "name": "stdout",
     "output_type": "stream",
     "text": [
      "['ravi', 'kumar', 'aarif', 'nisar', 'vanshika', 'huda', 'nuda', 'vivek']\n"
     ]
    }
   ],
   "source": [
    "#pop method to deleting temporary element in the list\n",
    "x=students.pop()\n",
    "print(students)\n"
   ]
  },
  {
   "cell_type": "code",
   "execution_count": 14,
   "id": "9adee3be",
   "metadata": {},
   "outputs": [
    {
     "name": "stdout",
     "output_type": "stream",
     "text": [
      "karthik\n"
     ]
    }
   ],
   "source": [
    "print(x)"
   ]
  },
  {
   "cell_type": "code",
   "execution_count": 15,
   "id": "ed7faf7d",
   "metadata": {},
   "outputs": [
    {
     "name": "stdout",
     "output_type": "stream",
     "text": [
      "['ravi', 'aarif', 'nisar', 'vanshika', 'huda', 'nuda', 'vivek']\n"
     ]
    }
   ],
   "source": [
    "a=students.pop(1)\n",
    "print(students)"
   ]
  },
  {
   "cell_type": "code",
   "execution_count": 16,
   "id": "12251657",
   "metadata": {},
   "outputs": [
    {
     "name": "stdout",
     "output_type": "stream",
     "text": [
      "kumar\n"
     ]
    }
   ],
   "source": [
    "print(a)"
   ]
  },
  {
   "cell_type": "code",
   "execution_count": null,
   "id": "ab03e3d4",
   "metadata": {},
   "outputs": [],
   "source": []
  }
 ],
 "metadata": {
  "kernelspec": {
   "display_name": "Python 3",
   "language": "python",
   "name": "python3"
  },
  "language_info": {
   "codemirror_mode": {
    "name": "ipython",
    "version": 3
   },
   "file_extension": ".py",
   "mimetype": "text/x-python",
   "name": "python",
   "nbconvert_exporter": "python",
   "pygments_lexer": "ipython3",
   "version": "3.8.8"
  }
 },
 "nbformat": 4,
 "nbformat_minor": 5
}
